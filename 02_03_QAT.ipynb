{
  "nbformat": 4,
  "nbformat_minor": 0,
  "metadata": {
    "colab": {
      "provenance": [],
      "authorship_tag": "ABX9TyMXTr7GcgiQJPi8aDvXsI1D",
      "include_colab_link": true
    },
    "kernelspec": {
      "name": "python3",
      "display_name": "Python 3"
    },
    "language_info": {
      "name": "python"
    }
  },
  "cells": [
    {
      "cell_type": "markdown",
      "metadata": {
        "id": "view-in-github",
        "colab_type": "text"
      },
      "source": [
        "<a href=\"https://colab.research.google.com/github/chopratejas/LeetCode-solutions/blob/master/02_03_QAT.ipynb\" target=\"_parent\"><img src=\"https://colab.research.google.com/assets/colab-badge.svg\" alt=\"Open In Colab\"/></a>"
      ]
    },
    {
      "cell_type": "code",
      "execution_count": 2,
      "metadata": {
        "colab": {
          "base_uri": "https://localhost:8080/"
        },
        "id": "i9xmRduNqAon",
        "outputId": "861bbee3-c99b-4cea-99be-e863d0309eca"
      },
      "outputs": [
        {
          "output_type": "stream",
          "name": "stdout",
          "text": [
            "Requirement already satisfied: torch in /usr/local/lib/python3.11/dist-packages (2.6.0+cu124)\n",
            "Requirement already satisfied: torchvision in /usr/local/lib/python3.11/dist-packages (0.21.0+cu124)\n",
            "Requirement already satisfied: filelock in /usr/local/lib/python3.11/dist-packages (from torch) (3.18.0)\n",
            "Requirement already satisfied: typing-extensions>=4.10.0 in /usr/local/lib/python3.11/dist-packages (from torch) (4.12.2)\n",
            "Requirement already satisfied: networkx in /usr/local/lib/python3.11/dist-packages (from torch) (3.4.2)\n",
            "Requirement already satisfied: jinja2 in /usr/local/lib/python3.11/dist-packages (from torch) (3.1.6)\n",
            "Requirement already satisfied: fsspec in /usr/local/lib/python3.11/dist-packages (from torch) (2025.3.0)\n",
            "Requirement already satisfied: nvidia-cuda-nvrtc-cu12==12.4.127 in /usr/local/lib/python3.11/dist-packages (from torch) (12.4.127)\n",
            "Requirement already satisfied: nvidia-cuda-runtime-cu12==12.4.127 in /usr/local/lib/python3.11/dist-packages (from torch) (12.4.127)\n",
            "Requirement already satisfied: nvidia-cuda-cupti-cu12==12.4.127 in /usr/local/lib/python3.11/dist-packages (from torch) (12.4.127)\n",
            "Requirement already satisfied: nvidia-cudnn-cu12==9.1.0.70 in /usr/local/lib/python3.11/dist-packages (from torch) (9.1.0.70)\n",
            "Requirement already satisfied: nvidia-cublas-cu12==12.4.5.8 in /usr/local/lib/python3.11/dist-packages (from torch) (12.4.5.8)\n",
            "Requirement already satisfied: nvidia-cufft-cu12==11.2.1.3 in /usr/local/lib/python3.11/dist-packages (from torch) (11.2.1.3)\n",
            "Requirement already satisfied: nvidia-curand-cu12==10.3.5.147 in /usr/local/lib/python3.11/dist-packages (from torch) (10.3.5.147)\n",
            "Requirement already satisfied: nvidia-cusolver-cu12==11.6.1.9 in /usr/local/lib/python3.11/dist-packages (from torch) (11.6.1.9)\n",
            "Requirement already satisfied: nvidia-cusparse-cu12==12.3.1.170 in /usr/local/lib/python3.11/dist-packages (from torch) (12.3.1.170)\n",
            "Requirement already satisfied: nvidia-cusparselt-cu12==0.6.2 in /usr/local/lib/python3.11/dist-packages (from torch) (0.6.2)\n",
            "Requirement already satisfied: nvidia-nccl-cu12==2.21.5 in /usr/local/lib/python3.11/dist-packages (from torch) (2.21.5)\n",
            "Requirement already satisfied: nvidia-nvtx-cu12==12.4.127 in /usr/local/lib/python3.11/dist-packages (from torch) (12.4.127)\n",
            "Requirement already satisfied: nvidia-nvjitlink-cu12==12.4.127 in /usr/local/lib/python3.11/dist-packages (from torch) (12.4.127)\n",
            "Requirement already satisfied: triton==3.2.0 in /usr/local/lib/python3.11/dist-packages (from torch) (3.2.0)\n",
            "Requirement already satisfied: sympy==1.13.1 in /usr/local/lib/python3.11/dist-packages (from torch) (1.13.1)\n",
            "Requirement already satisfied: mpmath<1.4,>=1.1.0 in /usr/local/lib/python3.11/dist-packages (from sympy==1.13.1->torch) (1.3.0)\n",
            "Requirement already satisfied: numpy in /usr/local/lib/python3.11/dist-packages (from torchvision) (2.0.2)\n",
            "Requirement already satisfied: pillow!=8.3.*,>=5.3.0 in /usr/local/lib/python3.11/dist-packages (from torchvision) (11.1.0)\n",
            "Requirement already satisfied: MarkupSafe>=2.0 in /usr/local/lib/python3.11/dist-packages (from jinja2->torch) (3.0.2)\n"
          ]
        }
      ],
      "source": [
        "!pip install torch torchvision"
      ]
    },
    {
      "cell_type": "code",
      "source": [
        "# Quantization Aware Training (QAT) Demo using PyTorch and CIFAR-10\n",
        "\n",
        "import torch\n",
        "import torch.nn as nn\n",
        "import torch.optim as optim\n",
        "import torch.quantization\n",
        "from torchvision import datasets, transforms\n",
        "from torch.utils.data import DataLoader, Subset\n",
        "import random\n",
        "import os\n",
        "import time\n",
        "\n",
        "# Set random seed for reproducibility\n",
        "torch.manual_seed(42)\n",
        "random.seed(42)\n",
        "\n",
        "# Quantizable CNN Model\n",
        "class QuantizableCNN(nn.Module):\n",
        "    def __init__(self):\n",
        "        super(QuantizableCNN, self).__init__()\n",
        "        self.quant = torch.quantization.QuantStub()\n",
        "        self.features = nn.Sequential(\n",
        "            nn.Conv2d(3, 32, 3, padding=1), nn.ReLU(), nn.MaxPool2d(2),\n",
        "            nn.Conv2d(32, 64, 3, padding=1), nn.ReLU(), nn.MaxPool2d(2),\n",
        "        )\n",
        "        self.classifier = nn.Sequential(\n",
        "            nn.Flatten(),\n",
        "            nn.Linear(64 * 8 * 8, 256), nn.ReLU(), nn.Linear(256, 10)\n",
        "        )\n",
        "        self.dequant = torch.quantization.DeQuantStub()\n",
        "\n",
        "    def forward(self, x):\n",
        "        x = self.quant(x)\n",
        "        x = self.features(x)\n",
        "        x = self.classifier(x)\n",
        "        x = self.dequant(x)\n",
        "        return x\n",
        "\n",
        "# Data Loaders\n",
        "def get_data(batch_size=128):\n",
        "    transform = transforms.Compose([\n",
        "        transforms.ToTensor(),\n",
        "        transforms.Normalize((0.5,), (0.5,))\n",
        "    ])\n",
        "    train_dataset = datasets.CIFAR10(root=\"./data\", train=True, download=True, transform=transform)\n",
        "    test_dataset = datasets.CIFAR10(root=\"./data\", train=False, download=True, transform=transform)\n",
        "    train_subset = Subset(train_dataset, list(range(10000)))\n",
        "    return DataLoader(train_subset, batch_size=batch_size, shuffle=True), DataLoader(test_dataset, batch_size=batch_size, shuffle=False)\n",
        "\n",
        "# Utility Functions\n",
        "def get_model_size(model):\n",
        "    torch.save(model.state_dict(), \"temp.p\")\n",
        "    size = os.path.getsize(\"temp.p\") / 1e6\n",
        "    os.remove(\"temp.p\")\n",
        "    return size\n",
        "\n",
        "def evaluate_model(model, dataloader, device):\n",
        "    model.eval()\n",
        "    correct = 0\n",
        "    total = 0\n",
        "    with torch.no_grad():\n",
        "        for x, y in dataloader:\n",
        "            x, y = x.to(device), y.to(device)\n",
        "            outputs = model(x)\n",
        "            _, predicted = torch.max(outputs.data, 1)\n",
        "            total += y.size(0)\n",
        "            correct += (predicted == y).sum().item()\n",
        "    return correct / total\n",
        "\n",
        "def measure_inference_time(model, dataloader, device, num_runs=50):\n",
        "    model.eval()\n",
        "    x, _ = next(iter(dataloader))\n",
        "    x = x.to(device)\n",
        "    with torch.no_grad():\n",
        "        for _ in range(5):\n",
        "            _ = model(x)\n",
        "        start = time.time()\n",
        "        for _ in range(num_runs):\n",
        "            _ = model(x)\n",
        "        end = time.time()\n",
        "    return (end - start) / num_runs\n",
        "\n",
        "# Train QAT Model\n",
        "def train_qat(model, loader, device):\n",
        "    model.train()\n",
        "    optimizer = optim.Adam(model.parameters(), lr=0.0001)\n",
        "    criterion = nn.CrossEntropyLoss()\n",
        "\n",
        "    # Initial FP32 training\n",
        "    for i, (x, y) in enumerate(loader):\n",
        "        if i > 100: break\n",
        "        x, y = x.to(device), y.to(device)\n",
        "        optimizer.zero_grad()\n",
        "        out = model(x)\n",
        "        loss = criterion(out, y)\n",
        "        loss.backward()\n",
        "        optimizer.step()\n",
        "\n",
        "    # QAT Prep and Fine-tuning\n",
        "    model.cpu()\n",
        "    model.qconfig = torch.quantization.get_default_qat_qconfig(\"fbgemm\")\n",
        "    torch.quantization.prepare_qat(model, inplace=True)\n",
        "    model.train()\n",
        "\n",
        "    for epoch in range(2):\n",
        "        for i, (x, y) in enumerate(loader):\n",
        "            if i > 200: break\n",
        "            x, y = x.to(\"cpu\"), y.to(\"cpu\")\n",
        "            optimizer.zero_grad()\n",
        "            out = model(x)\n",
        "            loss = criterion(out, y)\n",
        "            loss.backward()\n",
        "            optimizer.step()\n",
        "\n",
        "    # Convert to quantized model\n",
        "    model.eval()\n",
        "    quantized_model = torch.quantization.convert(model.eval(), inplace=False)\n",
        "    return quantized_model\n",
        "\n",
        "# Run Demo\n",
        "def main():\n",
        "    device = torch.device(\"cuda\" if torch.cuda.is_available() else \"cpu\")\n",
        "    train_loader, test_loader = get_data()\n",
        "\n",
        "    # Train baseline model\n",
        "    print(\"Training baseline FP32 model...\")\n",
        "    model_fp32 = QuantizableCNN().to(device)\n",
        "    optimizer = optim.Adam(model_fp32.parameters(), lr=0.001)\n",
        "    criterion = nn.CrossEntropyLoss()\n",
        "    model_fp32.train()\n",
        "    for i, (x, y) in enumerate(train_loader):\n",
        "        if i > 100: break\n",
        "        x, y = x.to(device), y.to(device)\n",
        "        optimizer.zero_grad()\n",
        "        out = model_fp32(x)\n",
        "        loss = criterion(out, y)\n",
        "        loss.backward()\n",
        "        optimizer.step()\n",
        "\n",
        "    acc_fp32 = evaluate_model(model_fp32, test_loader, device)\n",
        "    size_fp32 = get_model_size(model_fp32)\n",
        "    time_fp32 = measure_inference_time(model_fp32, test_loader, device)\n",
        "\n",
        "    # Train QAT model\n",
        "    print(\"\\nTraining and converting QAT model...\")\n",
        "    qat_model = QuantizableCNN().to(device)\n",
        "    qat_model.load_state_dict(model_fp32.state_dict())\n",
        "    qat_model = train_qat(qat_model, train_loader, device)\n",
        "\n",
        "    acc_qat = evaluate_model(qat_model, test_loader, \"cpu\")\n",
        "    size_qat = get_model_size(qat_model)\n",
        "    time_qat = measure_inference_time(qat_model, test_loader, \"cpu\")\n",
        "\n",
        "    # Results\n",
        "    print(\"\\n✅ QAT training and conversion complete.\")\n",
        "    print(\"\\n--- Model Comparison ---\")\n",
        "    print(f\"FP32 -> Accuracy: {acc_fp32:.4f}, Inference Time: {time_fp32*1000:.2f}ms, Size: {size_fp32:.2f}MB\")\n",
        "    print(f\"QAT  -> Accuracy: {acc_qat:.4f}, Inference Time: {time_qat*1000:.2f}ms, Size: {size_qat:.2f}MB\")\n",
        "\n",
        "if __name__ == \"__main__\":\n",
        "    main()\n"
      ],
      "metadata": {
        "colab": {
          "base_uri": "https://localhost:8080/"
        },
        "id": "Q7L106i4qBTq",
        "outputId": "d8c1f402-45ab-4ec7-aae8-b350003233ce"
      },
      "execution_count": 3,
      "outputs": [
        {
          "output_type": "stream",
          "name": "stderr",
          "text": [
            "100%|██████████| 170M/170M [00:04<00:00, 36.7MB/s]\n"
          ]
        },
        {
          "output_type": "stream",
          "name": "stdout",
          "text": [
            "Training baseline FP32 model...\n",
            "\n",
            "Training and converting QAT model...\n"
          ]
        },
        {
          "output_type": "stream",
          "name": "stderr",
          "text": [
            "/usr/local/lib/python3.11/dist-packages/torch/ao/quantization/observer.py:229: UserWarning: Please use quant_min and quant_max to specify the range for observers.                     reduce_range will be deprecated in a future release of PyTorch.\n",
            "  warnings.warn(\n"
          ]
        },
        {
          "output_type": "stream",
          "name": "stdout",
          "text": [
            "\n",
            "✅ QAT training and conversion complete.\n",
            "\n",
            "--- Model Comparison ---\n",
            "FP32 -> Accuracy: 0.4496, Inference Time: 88.28ms, Size: 4.29MB\n",
            "QAT  -> Accuracy: 0.4971, Inference Time: 42.61ms, Size: 1.09MB\n"
          ]
        }
      ]
    }
  ]
}